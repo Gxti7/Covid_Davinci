{
  "nbformat": 4,
  "nbformat_minor": 0,
  "metadata": {
    "colab": {
      "provenance": []
    },
    "kernelspec": {
      "name": "python3",
      "display_name": "Python 3"
    },
    "language_info": {
      "name": "python"
    }
  },
  "cells": [
    {
      "cell_type": "code",
      "execution_count": 37,
      "metadata": {
        "id": "QVM4XCDiAR8S"
      },
      "outputs": [],
      "source": [
        "import tensorflow as tf\n",
        "import tensorflow_datasets as tfds\n",
        "import numpy as np\n",
        "import pandas as pd\n",
        "import xlrd\n",
        "import seaborn as sb\n",
        "import matplotlib.pyplot as plt\n"
      ]
    },
    {
      "cell_type": "code",
      "source": [
        "from google.colab import files\n",
        "from google.colab import drive\n",
        "\n",
        "drive.mount ('/content/drive')"
      ],
      "metadata": {
        "colab": {
          "base_uri": "https://localhost:8080/"
        },
        "id": "iLh5a7Kh5Bz8",
        "outputId": "47ba039e-5f6e-419a-9918-477326ab6b6a"
      },
      "execution_count": 38,
      "outputs": [
        {
          "output_type": "stream",
          "name": "stdout",
          "text": [
            "Mounted at /content/drive\n"
          ]
        }
      ]
    },
    {
      "cell_type": "code",
      "source": [
        "data=pd.read_csv(\"/content/drive/MyDrive/Colab Notebooks/covid19.csv\")"
      ],
      "metadata": {
        "id": "44Zno2QL564P"
      },
      "execution_count": 114,
      "outputs": []
    },
    {
      "cell_type": "code",
      "source": [
        "data2=pd.read_excel(\"/content/drive/MyDrive/Colab Notebooks/covidspread.xlsx\")\n"
      ],
      "metadata": {
        "id": "2939jNBV6hXN"
      },
      "execution_count": 46,
      "outputs": []
    },
    {
      "cell_type": "code",
      "source": [
        "# capa= tf.keras.layers.Dense(units=1, input_shape=[1])\n",
        "# modelo = tf.keras.Sequential([capa])\n",
        "\n",
        "oculta1=tf.keras.layers.Dense(units=3, input_shape=[1])\n",
        "oculta2=tf.keras.layers.Dense(units=2)\n",
        "salida=tf.keras.layers.Dense(units=1)\n",
        "modelo= tf.keras.Sequential([oculta1,oculta2,salida])\n",
        "\n",
        "\n",
        "oculta1r=tf.keras.layers.Dense(units=50, input_shape=[1])\n",
        "oculta2r=tf.keras.layers.Dense(units=50)\n",
        "salidar=tf.keras.layers.Dense(units=1)\n",
        "modelor= tf.keras.Sequential([oculta1r,oculta2r,salidar])"
      ],
      "metadata": {
        "id": "ntcvu3AD7sn7"
      },
      "execution_count": 118,
      "outputs": []
    },
    {
      "cell_type": "code",
      "source": [
        "modelo.compile(\n",
        "    optimizer = tf.keras.optimizers.Adam(0.05),\n",
        "    loss='mean_squared_error'\n",
        ")\n",
        "modelor.compile(\n",
        "    optimizer = tf.keras.optimizers.Adam(0.05),\n",
        "    loss='mean_squared_error'\n",
        ")"
      ],
      "metadata": {
        "id": "D9C6LZ9X-OyV"
      },
      "execution_count": 119,
      "outputs": []
    },
    {
      "cell_type": "code",
      "source": [
        "print(\"Comenzando entrenamiento...\")\n",
        "historial = modelo.fit(data2.num_cases,data2.Muertes,epochs=1000, verbose=False)\n",
        "historialr = modelor.fit(data2.num_cases,data2.Recuperados,epochs=1000, verbose=False)\n",
        "print(\"¡Modelo Entrenado!\")"
      ],
      "metadata": {
        "colab": {
          "base_uri": "https://localhost:8080/"
        },
        "id": "Rfty-gqtRZBd",
        "outputId": "afcdd2fa-d775-4e4b-eae4-72f840013abf"
      },
      "execution_count": 120,
      "outputs": [
        {
          "output_type": "stream",
          "name": "stdout",
          "text": [
            "Comenzando entrenamiento...\n",
            "¡Modelo Entrenado!\n"
          ]
        }
      ]
    },
    {
      "cell_type": "code",
      "source": [
        "import matplotlib.pyplot as plt\n",
        "plt.xlabel(\"# Epoca\")\n",
        "plt.ylabel(\"Magnitud de perdida\")\n",
        "plt.plot(historial.history[\"loss\"])\n",
        "plt.plot(historialr.history[\"loss\"])"
      ],
      "metadata": {
        "colab": {
          "base_uri": "https://localhost:8080/",
          "height": 482
        },
        "id": "oCUO8qjmB5R1",
        "outputId": "316a3119-a544-4413-d95c-fce53f17e83c"
      },
      "execution_count": 121,
      "outputs": [
        {
          "output_type": "execute_result",
          "data": {
            "text/plain": [
              "[<matplotlib.lines.Line2D at 0x794129e82980>]"
            ]
          },
          "metadata": {},
          "execution_count": 121
        },
        {
          "output_type": "display_data",
          "data": {
            "text/plain": [
              "<Figure size 640x480 with 1 Axes>"
            ],
            "image/png": "[encoded data removed]"
          },
          "metadata": {}
        }
      ]
    },
    {
      "cell_type": "code",
      "source": [
        "print(\"Hagamos una prediccion\")\n",
        "num_casos1=int(input(\"Ingrese numero de casos: \"))\n",
        "resultado= modelo.predict([num_casos1])\n",
        "resultador= modelor.predict([num_casos1])\n",
        "print (\"el resultado es \" + str(int(resultado)) + \" muertes!\")\n",
        "print (\"el resultado es \" + str(int(resultador)) + \" recuperados!\")"
      ],
      "metadata": {
        "colab": {
          "base_uri": "https://localhost:8080/"
        },
        "id": "uNOr8XnK-qS2",
        "outputId": "ec56dd01-b3e8-45b1-9931-2fb225e01e2a"
      },
      "execution_count": 136,
      "outputs": [
        {
          "output_type": "stream",
          "name": "stdout",
          "text": [
            "Hagamos una prediccion\n",
            "Ingrese numero de casos: 25000\n",
            "1/1 [==============================] - 0s 41ms/step\n",
            "1/1 [==============================] - 0s 43ms/step\n",
            "el resultado es 255 muertes!\n",
            "el resultado es 22096 recuperados!\n"
          ]
        }
      ]
    }
  ]
}